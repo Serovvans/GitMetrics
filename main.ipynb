{
 "cells": [
  {
   "cell_type": "code",
   "execution_count": 1,
   "metadata": {},
   "outputs": [
    {
     "name": "stdout",
     "output_type": "stream",
     "text": [
      "{'repo_url': 'https://github.com/Serovvans/auto_pandas', 'root_path': '/var/folders/6v/rd9mywh12msdrg5xk2zvrs480000gn/T/tmpov14vjqh', 'file_paths': ['/var/folders/6v/rd9mywh12msdrg5xk2zvrs480000gn/T/tmpov14vjqh/__init__.py', '/var/folders/6v/rd9mywh12msdrg5xk2zvrs480000gn/T/tmpov14vjqh/auto_data_frame.py'], 'analysis_results': {'__init__.py': {'error': 'Ошибка анализа: Error code: 400 - {\\'error\\': {\\'message\\': \"Failed to call a function. Please adjust your prompt. See \\'failed_generation\\' for more details.\", \\'type\\': \\'invalid_request_error\\', \\'code\\': \\'tool_use_failed\\', \\'failed_generation\\': \\'```json\\\\n{\\\\n  \"name\": \"CodeAnalysisOutput\",\\\\n  \"arguments\": {\\\\n    \"issues\": {},\\\\n    \"overall_assessment\": \"Код для анализа не предоставлен.\",\\\\n    \"recommendations\": \"Пожалуйста, предоставьте код для проведения анализа.\"\\\\n  }\\\\n}\\\\n```\\'}}'}, 'auto_data_frame.py': {'error': 'Ошибка анализа: Error code: 400 - {\\'error\\': {\\'message\\': \"Failed to call a function. Please adjust your prompt. See \\'failed_generation\\' for more details.\", \\'type\\': \\'invalid_request_error\\', \\'code\\': \\'tool_use_failed\\', \\'failed_generation\\': \\'```json\\\\n{\\\\n  \"name\": \"CodeAnalysisOutput\",\\\\n  \"arguments\": {\\\\n    \"issues\": {\\\\n      \"issue1\": {\\\\n        \"error\": \"Отсутствие пробела в prompt в методе __generate_algorithm\",\\\\n        \"criticality\": \"low\",\\\\n        \"solution\": \"Добавить пробел между \\\\\\'Вот условие задачи: {task}.\\\\\\' и \\\\\\'Пример данных: {data_example}\\\\\\'\"\\\\n      },\\\\n      \"issue2\": {\\\\n        \"error\": \"Ошибочное использование переменной в __generate_code_variants\",\\\\n        \"criticality\": \"medium\",\\\\n        \"solution\": \"Использовать detailed_task вместо task\"\\\\n      },\\\\n      \"issue3\": {\\\\n        \"error\": \"Ненадежный поиск оценки в __evaluate_code_variant\",\\\\n        \"criticality\": \"high\",\\\\n        \"solution\": \"Использовать более надежный способ извлечения оценки\"\\\\n      },\\\\n      \"issue4\": {\\\\n        \"error\": \"Ошибки в обработке регулярных выражений\",\\\\n        \"criticality\": \"medium\",\\\\n        \"solution\": \"Добавить обработку ошибок при поиске шаблонов\"\\\\n      },\\\\n      \"issue5\": {\\\\n        \"error\": \"Опечатки в описаниях задач\",\\\\n        \"criticality\": \"low\",\\\\n        \"solution\": \"Исправить опечатки в строках\"\\\\n      },\\\\n      \"issue6\": {\\\\n        \"error\": \"Скрытые сообщения при загрузке моделей\",\\\\n        \"criticality\": \"low\",\\\\n        \"solution\": \"Установить verbose=1 для отображения сообщений\"\\\\n      }\\\\n    },\\\\n    \"overall_assessment\": \"Код выполняет сложные задачи, но содержит несколько ошибок, связанных с обработкой строк и исключений.\",\\\\n    \"recommendations\": \"Рекомендуется улучшить обработку строк, добавить обработку исключений и исправить опечатки.\"\\\\n  }\\\\n}\\\\n```\\'}}'}}}\n"
     ]
    }
   ],
   "source": [
    "from ai.graphs.code_analysis_graph import code_analysis_graph\n",
    "\n",
    "result = code_analysis_graph.invoke({\n",
    "    \"repo_url\": \"https://github.com/Serovvans/auto_pandas\"\n",
    "})\n",
    "\n",
    "print(result)"
   ]
  },
  {
   "cell_type": "code",
   "execution_count": null,
   "metadata": {},
   "outputs": [],
   "source": [
    "from ai.graphs.code_analysis_graph import code_analysis_graph\n",
    "from IPython.display import Image, display\n",
    "\n",
    "display(Image(code_analysis_graph.get_graph().draw_mermaid_png()))"
   ]
  }
 ],
 "metadata": {
  "kernelspec": {
   "display_name": "venv",
   "language": "python",
   "name": "python3"
  },
  "language_info": {
   "codemirror_mode": {
    "name": "ipython",
    "version": 3
   },
   "file_extension": ".py",
   "mimetype": "text/x-python",
   "name": "python",
   "nbconvert_exporter": "python",
   "pygments_lexer": "ipython3",
   "version": "3.11.5"
  }
 },
 "nbformat": 4,
 "nbformat_minor": 2
}
